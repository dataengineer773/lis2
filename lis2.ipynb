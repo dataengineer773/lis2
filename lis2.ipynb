{
 "cells": [
  {
   "cell_type": "code",
   "execution_count": 1,
   "id": "9163c05d-585a-4136-8c24-baa6b95eaf2e",
   "metadata": {},
   "outputs": [],
   "source": [
    "from typing import Any\n",
    "\n",
    "Expression = Any  \n"
   ]
  },
  {
   "cell_type": "code",
   "execution_count": 2,
   "id": "b9834eae-dd87-423f-abd2-0cd074891a93",
   "metadata": {},
   "outputs": [],
   "source": [
    "def parse(program: str) -> Expression:\n",
    "    \"Read a Scheme expression from a srting .\"\n",
    "    return raed_from_tokens(tokenize(program))\n",
    "\n",
    "def tokenize(s: str) -> list[str]:\n",
    "    \"Convert a String into a list of tokens.\"\n",
    "    return s.replace('(' ' (').replace(')', ') ').split()\n",
    "\n",
    "def read_from_tokens(tokens: list[str]) -> Expression:\n",
    "    \"Read an expression from a sequence of tokens.\""
   ]
  }
 ],
 "metadata": {
  "kernelspec": {
   "display_name": "Python 3 (ipykernel)",
   "language": "python",
   "name": "python3"
  },
  "language_info": {
   "codemirror_mode": {
    "name": "ipython",
    "version": 3
   },
   "file_extension": ".py",
   "mimetype": "text/x-python",
   "name": "python",
   "nbconvert_exporter": "python",
   "pygments_lexer": "ipython3",
   "version": "3.12.3"
  }
 },
 "nbformat": 4,
 "nbformat_minor": 5
}
